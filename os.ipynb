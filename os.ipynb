{
 "cells": [
  {
   "cell_type": "code",
   "execution_count": null,
   "metadata": {
    "collapsed": true
   },
   "outputs": [],
   "source": [
    "# coding:utf-8\n",
    "import os\n",
    "\n",
    "# print os.path.abspath(\"test.txt\")    #返回文件的绝对路径\n",
    "\n",
    "# print os.path.exists(\"test.txt\")     #判断文件是否存在\n",
    "\n",
    "# print os.path.basename(\"C:\\\\Users\\\\Chenjiabing\\\\Desktop\\\\file\\\\a.txt\")    #返回文档路径中的文档名   a.txt\n",
    "\n",
    "# print os.path.normpath(\"C:\\Users\\Chenjiabing\\Desktop\\file\")    #标准化文档的路径名称，如果是在window中变成单个反斜杠\n",
    "\n",
    "\n",
    "# list=['C:\\Users\\Chenjiabing\\Desktop\\file','C:\\Users\\Chenjiabing\\Desktop']\n",
    "# print os.path.commonprefix(list)     #返回list中的所有路径名相同的路径的一部分，即是逐个字符进行比较返回相同的部分    C:\\Users\\Chenjiabing\\Desktop\n",
    "\n",
    "\n",
    "# print os.path.dirname('C:\\data\\db')    #返回文件所在上面一层的目录的名称，注意这里是所在紧接着一层的文件夹的名称\n",
    "\n",
    "# print os.path.split(os.path.normpath(\"C:\\\\data\\\\db\\\\a.txt\"))      #将文件的路径名分割成两部份，一部分是文件的前缀，另外的一部分是文件的名称  注意返回的是一个元祖   ('C:\\\\data\\\\db', 'a.txt')\n",
    "\n",
    "# print os.path.getatime(\"test.txt\")     #返回文件最后的访问时间\n",
    "\n",
    "# print os.path.getmtime(\"test.txt\")     #返回文件最后的修改时间\n",
    "\n",
    "# print os.path.getctime(\"test.txt\")     #在unix的系统上返回的是文件最后修改的时间，在window的系统上返回的是文件的创建时间\n",
    "\n",
    "# print  os.path.getsize(\"test.txt\")     #返回文件的大小，以字节为单位\n",
    "\n",
    "# print os.path.isfile(os.path.normpath(\"C:\\Users\\Chenjiabing\\Desktop\\file\\a.txt\"))       #判断是否是文件\n",
    "\n",
    "# print os.path.isdir(os.path.normpath(\"C:\\Users\\Chenjiabing\\Desktop\\file\"))              #判断是否为目录\n",
    "\n",
    "# print os.path.join(\"c:\\\\\",'a.txt')        #将两个路径连接在一起，变成一个完整的路径   注意在window下必须使用双斜杠，否则错误\n",
    "\n",
    "\n"
   ]
  },
  {
   "cell_type": "code",
   "execution_count": 63,
   "metadata": {},
   "outputs": [],
   "source": [
    "\n",
    "# print os.getcwd()       #获取当前的路径\n",
    "\n",
    "# print os.listdir(\"c:\\\\\")    #获取指定文件目录下的所有的文件和文件夹\n",
    "\n",
    "# print os.mkdir(\"haha\")  #创建一个文件夹，如果这个文件夹存在，那么就会创建失败，如果不存在创建成功\n",
    "\n",
    "\n",
    "# if os.path.isdir(\"haha\"):\n",
    "#     print \"这是一个文件夹,并且我将其删除\"\n",
    "#     os.rmdir(\"haha\")   #删除一个文件夹\n",
    "# else:\n",
    "#     print \"这不是一个文件夹，并且我将创建一个文件夹\"\n",
    "#     os.mkdir(\"haha\")\n",
    "\n",
    "# if os.path.isfile(\"test.txt\"):\n",
    "#     print \"这是一个文件，并且我将其重命名\"\n",
    "#     print os.rename(\"test.txt\",'a.txt')\n",
    "# elif os.path.isdir(\"test.txt\"):\n",
    "#     print \"这是一个文件夹\"\n",
    "    \n",
    "\n",
    "    \n",
    "# print os.remove(\"a.txt\")    #删除一个文件\n",
    "\n",
    "# print os.makedirs(os.path.normpath(\"C:\\\\file\\\\img\\\\a\"))   # 循环创建文件夹，这个是当上级目录不存在的时候可以创建多个文件的作用\n",
    "\n",
    "# print os.removedirs(os.path.normpath(\"C:\\\\file\\\\img\\\\a\"))  #循环删除整个目录，removedir只能删除一个文件夹，然而这个是将整个路径的文件夹全部删除\n",
    "\n",
    "\n",
    "\n",
    "\"\"\"\n",
    "如果haha这个文件夹存在，那么就重命名这个文件夹，如果不存在就创建一个\n",
    "\"\"\"\n",
    "# if os.path.exists(\"haha\"):\n",
    "#     os.rename(\"haha\",'a')\n",
    "# else:\n",
    "#     os.mkdir(\"haha\")\n",
    "    \n",
    "\n",
    "\n",
    "\n",
    "\n",
    "\n",
    "\n",
    "\n",
    "\n",
    "\n",
    "    "
   ]
  },
  {
   "cell_type": "code",
   "execution_count": null,
   "metadata": {},
   "outputs": [],
   "source": []
  },
  {
   "cell_type": "code",
   "execution_count": null,
   "metadata": {
    "collapsed": true
   },
   "outputs": [],
   "source": []
  }
 ],
 "metadata": {
  "kernelspec": {
   "display_name": "Python 2",
   "language": "python",
   "name": "python2"
  },
  "language_info": {
   "codemirror_mode": {
    "name": "ipython",
    "version": 2
   },
   "file_extension": ".py",
   "mimetype": "text/x-python",
   "name": "python",
   "nbconvert_exporter": "python",
   "pygments_lexer": "ipython2",
   "version": "2.7.12"
  }
 },
 "nbformat": 4,
 "nbformat_minor": 2
}
