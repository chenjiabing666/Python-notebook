{
 "cells": [
  {
   "cell_type": "code",
   "execution_count": 1,
   "metadata": {},
   "outputs": [
    {
     "name": "stdout",
     "output_type": "stream",
     "text": [
      "BaseException integer division or modulo by zero\n"
     ]
    }
   ],
   "source": [
    "#coding:utf-8\n",
    "\n",
    "## 处理异常\n",
    "\n",
    "\n",
    "\"\"\"\n",
    "try:\n",
    "except:\n",
    "finally:\n",
    "else:\n",
    "\n",
    "1.finally是最终都要执行的语句，无论有无异常，但是else只有没有异常才会执行的，和finally是有区别的\n",
    "\n",
    "2.注意finally如果和else一起出现的话一定是finally在else之后写，否则将会出现错误\n",
    "\n",
    "3.如果出现多个不同的异常，或者想要捕捉多个异常的情况，那么需要使用多个except语句，此时就要将最小的异常种类写在最前面\n",
    "  因为程序一旦捕捉到异常就会执行下面的语句，后面的except即使符合情况，那么也不会执行了\n",
    "  \n",
    "4.如果出现多个异常在一个except中捕捉的话，一定要使用括号\n",
    "\n",
    "\n",
    "\n",
    "\n",
    "\"\"\"\n",
    "\n",
    "\n"
   ]
  },
  {
   "cell_type": "code",
   "execution_count": 6,
   "metadata": {},
   "outputs": [
    {
     "name": "stdout",
     "output_type": "stream",
     "text": [
      "integer division or modulo by zero\n",
      "finally\n"
     ]
    }
   ],
   "source": [
    "# try:\n",
    "#     print \"陈加兵\"\n",
    "# except:\n",
    "#     print \"这个是错误的，请重新来过\"\n",
    "# finally:\n",
    "#     print \"这个是无论都会执行的，请慎重考虑\"\n",
    "\n",
    "\n",
    "\n",
    "\"\"\"\n",
    "finally无论一定要在else之后，否则会出现错误\n",
    "\"\"\"\n",
    "# try: \n",
    "#     print \"这里面写的是执行的语句，一旦有异常就会执行except的语句\"\n",
    "# except:\n",
    "#     print \"这个是用来处理异常的\"\n",
    "# else:\n",
    "#     print \"这个是没有异常才会执行的，和finally是有区别的\"\n",
    "# finally:\n",
    "#     print \"这个是无论有无异常都会执行的\"\n",
    "\n",
    "\n",
    "\"\"\"\n",
    "出现多个except语句，只要找到一个符合情况的，那么其他的就不会再执行了\n",
    "\"\"\"\n",
    "# try:\n",
    "#     print 30/0\n",
    "# except BaseException as e:\n",
    "#     print \"BaseException\",e\n",
    "# except ValueError,e:\n",
    "#     print \"ValueError:\",e\n",
    "# except ZeroDivisionError,e:\n",
    "#     print \"zeroDivisionError:\",e\n",
    "\n",
    "\n",
    "\"\"\"\n",
    "使用括号将多个不同的异常括在一起，那么只用满足其中的一个就会捕捉成功\n",
    "这里还是要注意的是else一定要在finally之前\n",
    "\"\"\"\n",
    "\n",
    "# try:\n",
    "#     print 30/0\n",
    "# except (ValueError,ZeroDivisionError) as e:\n",
    "#     print e\n",
    "# else:\n",
    "#     print \"这个程序没有错误\"\n",
    "# finally:\n",
    "#     print \"finally\"\n"
   ]
  },
  {
   "cell_type": "code",
   "execution_count": 20,
   "metadata": {},
   "outputs": [
    {
     "name": "stdout",
     "output_type": "stream",
     "text": [
      "除数不能为0\n"
     ]
    }
   ],
   "source": [
    "## 引发异常\\\n",
    "\n",
    "\"\"\"\n",
    "raise语句可以引发异常，一旦引发异常，那么就可以使用except进行捕捉\n",
    "\n",
    "\n",
    "raise ValueError(\"其中引发异常想要输出的提醒的语句就写在这里\")\n",
    "\n",
    "|\n",
    "\n",
    "\"\"\"\n",
    "\n",
    "\n",
    "\n",
    "\"\"\"\n",
    "引发异常并且处理\n",
    "\"\"\"\n",
    "# try:\n",
    "#     raise ValueError(\"其中引发异常想要输出的提醒的语句就写在这里\")\n",
    "# except ValueError as e:\n",
    "#     print e\n",
    "# finally:\n",
    "#     print \"finally\"\n",
    "\n",
    "\"\"\"\n",
    "引发异常，但是不处理\n",
    "\"\"\"\n",
    "\n",
    "try:\n",
    "    raise ZeroDivisionError(\"除数不能为0\")\n",
    "except ZeroDivisionError as e:\n",
    "    print e\n",
    "    raise       #这里虽然前面处理了这个异常，但是还是想要重新引发这个异常，那么只需raise即可重新引发\n",
    "\n",
    "    \n"
   ]
  },
  {
   "cell_type": "code",
   "execution_count": null,
   "metadata": {
    "collapsed": true
   },
   "outputs": [],
   "source": []
  }
 ],
 "metadata": {
  "kernelspec": {
   "display_name": "Python 2",
   "language": "python",
   "name": "python2"
  },
  "language_info": {
   "codemirror_mode": {
    "name": "ipython",
    "version": 2
   },
   "file_extension": ".py",
   "mimetype": "text/x-python",
   "name": "python",
   "nbconvert_exporter": "python",
   "pygments_lexer": "ipython2",
   "version": "2.7.12"
  }
 },
 "nbformat": 4,
 "nbformat_minor": 2
}
